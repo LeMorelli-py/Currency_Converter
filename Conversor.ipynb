{
 "cells": [
  {
   "cell_type": "code",
   "execution_count": 7,
   "metadata": {},
   "outputs": [
    {
     "data": {
      "text/plain": [
       "'USD - 1299.00 convertido  para BRL fica 6403.57'"
      ]
     },
     "execution_count": 7,
     "metadata": {},
     "output_type": "execute_result"
    }
   ],
   "source": [
    "from forex_python.converter import CurrencyRates\n",
    "\n",
    "\n",
    "def obter_cotaçao():\n",
    "    conversor = CurrencyRates()\n",
    "    moeda_origem = str(input('Qual o codigo da Moeda de Origem: '))\n",
    "    moeda_destino= str(input('Qual o codigo da Moeda de Destino: '))\n",
    "    quantidade = float(input('Quanto dinheiro você tem na carteira: '))\n",
    "    cotacao = conversor.convert(moeda_origem, moeda_destino, quantidade)\n",
    "    return f'{moeda_origem} - {quantidade:.2f} convertido para {moeda_destino} fica {cotacao:.2f}'\n",
    "\n",
    "obter_cotaçao()\n",
    "\n",
    "#print(f'R$ {real}, equivalem a US$ {real/5.2:.2f}')"
   ]
  }
 ],
 "metadata": {
  "kernelspec": {
   "display_name": "venv",
   "language": "python",
   "name": "python3"
  },
  "language_info": {
   "codemirror_mode": {
    "name": "ipython",
    "version": 3
   },
   "file_extension": ".py",
   "mimetype": "text/x-python",
   "name": "python",
   "nbconvert_exporter": "python",
   "pygments_lexer": "ipython3",
   "version": "3.11.7"
  }
 },
 "nbformat": 4,
 "nbformat_minor": 2
}
